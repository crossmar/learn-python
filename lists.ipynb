{
 "cells": [
  {
   "cell_type": "markdown",
   "metadata": {},
   "source": [
    "# A list of examples of list usages:"
   ]
  },
  {
   "cell_type": "code",
   "execution_count": 1,
   "metadata": {},
   "outputs": [],
   "source": [
    "# Earth Observing System\n",
    "# From Wikipedia, the free encyclopedia\n",
    "# Source: https://en.wikipedia.org/wiki/Earth_Observing_System\n",
    "\n",
    "eos_satellites = ['ACRIMSAT',\n",
    "              'ADEOS I',\n",
    "              'ADEOS II (Midori II)',\n",
    "              'ATS-3',\n",
    "              'ATLAS-1',\n",
    "              'CHAMP',\n",
    "              'CRRES',\n",
    "              'DE 1 and DE 2',\n",
    "              'ERBS',\n",
    "              'ESSA program',\n",
    "              'ERS-1',\n",
    "              'SeaWiFS',\n",
    "              'TRMM',\n",
    "              'Landsat 7',\n",
    "              'QuikSCAT',\n",
    "              'Terra (EOS-AM)',\n",
    "              'NMP/EO-1',\n",
    "              'Jason 1',\n",
    "              'Meteor 3M-1/Sage III\\xa0',\n",
    "              'GRACE',\n",
    "              'Aqua',\n",
    "              'ICESat',\n",
    "              'SORCE',\n",
    "              'Aura',\n",
    "              'CloudSat',\n",
    "              'CALIPSO',\n",
    "              'SMAP'\n",
    "              'OCO-2',\n",
    "              'Aquarius',\n",
    "              'Landsat 8']"
   ]
  },
  {
   "cell_type": "markdown",
   "metadata": {},
   "source": [
    "### get list's length:"
   ]
  },
  {
   "cell_type": "code",
   "execution_count": 2,
   "metadata": {},
   "outputs": [
    {
     "data": {
      "text/plain": [
       "29"
      ]
     },
     "execution_count": 2,
     "metadata": {},
     "output_type": "execute_result"
    }
   ],
   "source": [
    "len(eos_satellites)"
   ]
  },
  {
   "cell_type": "markdown",
   "metadata": {},
   "source": [
    "### List slicing:\n",
    "\n",
    "#### [begin:end:step]\n",
    "\n",
    "#### get an item in a list:"
   ]
  },
  {
   "cell_type": "code",
   "execution_count": 3,
   "metadata": {},
   "outputs": [
    {
     "data": {
      "text/plain": [
       "'ACRIMSAT'"
      ]
     },
     "execution_count": 3,
     "metadata": {},
     "output_type": "execute_result"
    }
   ],
   "source": [
    "eos_satellites[0]"
   ]
  },
  {
   "cell_type": "code",
   "execution_count": 4,
   "metadata": {},
   "outputs": [
    {
     "data": {
      "text/plain": [
       "'Landsat 8'"
      ]
     },
     "execution_count": 4,
     "metadata": {},
     "output_type": "execute_result"
    }
   ],
   "source": [
    "eos_satellites[-1]"
   ]
  },
  {
   "cell_type": "markdown",
   "metadata": {},
   "source": [
    "#### slice a sequence of list items:"
   ]
  },
  {
   "cell_type": "code",
   "execution_count": 5,
   "metadata": {},
   "outputs": [
    {
     "data": {
      "text/plain": [
       "['ADEOS I', 'ADEOS II (Midori II)']"
      ]
     },
     "execution_count": 5,
     "metadata": {},
     "output_type": "execute_result"
    }
   ],
   "source": [
    "eos_satellites[1:3]"
   ]
  },
  {
   "cell_type": "code",
   "execution_count": 6,
   "metadata": {},
   "outputs": [
    {
     "data": {
      "text/plain": [
       "['ACRIMSAT', 'ADEOS I']"
      ]
     },
     "execution_count": 6,
     "metadata": {},
     "output_type": "execute_result"
    }
   ],
   "source": [
    "eos_satellites[:2]"
   ]
  },
  {
   "cell_type": "code",
   "execution_count": 7,
   "metadata": {},
   "outputs": [
    {
     "data": {
      "text/plain": [
       "['ADEOS I',\n",
       " 'ATS-3',\n",
       " 'CHAMP',\n",
       " 'DE 1 and DE 2',\n",
       " 'ESSA program',\n",
       " 'SeaWiFS',\n",
       " 'Landsat 7',\n",
       " 'Terra (EOS-AM)',\n",
       " 'Jason 1',\n",
       " 'GRACE',\n",
       " 'ICESat',\n",
       " 'Aura',\n",
       " 'CALIPSO',\n",
       " 'Aquarius']"
      ]
     },
     "execution_count": 7,
     "metadata": {},
     "output_type": "execute_result"
    }
   ],
   "source": [
    "eos_satellites[1::2]"
   ]
  },
  {
   "cell_type": "code",
   "execution_count": 8,
   "metadata": {},
   "outputs": [
    {
     "data": {
      "text/plain": [
       "['ACRIMSAT',\n",
       " 'ADEOS II (Midori II)',\n",
       " 'ATLAS-1',\n",
       " 'CRRES',\n",
       " 'ERBS',\n",
       " 'ERS-1',\n",
       " 'TRMM',\n",
       " 'QuikSCAT',\n",
       " 'NMP/EO-1',\n",
       " 'Meteor 3M-1/Sage III\\xa0',\n",
       " 'Aqua',\n",
       " 'SORCE',\n",
       " 'CloudSat',\n",
       " 'SMAPOCO-2',\n",
       " 'Landsat 8']"
      ]
     },
     "execution_count": 8,
     "metadata": {},
     "output_type": "execute_result"
    }
   ],
   "source": [
    "eos_satellites[::2]"
   ]
  },
  {
   "cell_type": "code",
   "execution_count": 9,
   "metadata": {},
   "outputs": [
    {
     "data": {
      "text/plain": [
       "['Landsat 8',\n",
       " 'Aquarius',\n",
       " 'SMAPOCO-2',\n",
       " 'CALIPSO',\n",
       " 'CloudSat',\n",
       " 'Aura',\n",
       " 'SORCE',\n",
       " 'ICESat',\n",
       " 'Aqua',\n",
       " 'GRACE',\n",
       " 'Meteor 3M-1/Sage III\\xa0',\n",
       " 'Jason 1',\n",
       " 'NMP/EO-1',\n",
       " 'Terra (EOS-AM)',\n",
       " 'QuikSCAT',\n",
       " 'Landsat 7',\n",
       " 'TRMM',\n",
       " 'SeaWiFS',\n",
       " 'ERS-1',\n",
       " 'ESSA program',\n",
       " 'ERBS',\n",
       " 'DE 1 and DE 2',\n",
       " 'CRRES',\n",
       " 'CHAMP',\n",
       " 'ATLAS-1',\n",
       " 'ATS-3',\n",
       " 'ADEOS II (Midori II)',\n",
       " 'ADEOS I',\n",
       " 'ACRIMSAT']"
      ]
     },
     "execution_count": 9,
     "metadata": {},
     "output_type": "execute_result"
    }
   ],
   "source": [
    "eos_satellites[::-1]"
   ]
  },
  {
   "cell_type": "markdown",
   "metadata": {},
   "source": [
    "### Sort a list:\n",
    "\n",
    "#### Default sort is according to lexical order:"
   ]
  },
  {
   "cell_type": "code",
   "execution_count": 10,
   "metadata": {},
   "outputs": [
    {
     "name": "stdout",
     "output_type": "stream",
     "text": [
      "['ACRIMSAT', 'ADEOS I', 'ADEOS II (Midori II)', 'ATLAS-1', 'ATS-3', 'Aqua', 'Aquarius', 'Aura', 'CALIPSO', 'CHAMP', 'CRRES', 'CloudSat', 'DE 1 and DE 2', 'ERBS', 'ERS-1', 'ESSA program', 'GRACE', 'ICESat', 'Jason 1', 'Landsat 7', 'Landsat 8', 'Meteor 3M-1/Sage III\\xa0', 'NMP/EO-1', 'QuikSCAT', 'SMAPOCO-2', 'SORCE', 'SeaWiFS', 'TRMM', 'Terra (EOS-AM)']\n"
     ]
    }
   ],
   "source": [
    "eos_satellites_sorted = sorted(eos_satellites)\n",
    "print(eos_satellites_sorted)"
   ]
  },
  {
   "cell_type": "markdown",
   "metadata": {},
   "source": [
    "#### For a better understanding, let's see how it works with lists of numbers and strings:"
   ]
  },
  {
   "cell_type": "code",
   "execution_count": 11,
   "metadata": {},
   "outputs": [
    {
     "data": {
      "text/plain": [
       "['1', '10', '100', '2', '20', '5', '50']"
      ]
     },
     "execution_count": 11,
     "metadata": {},
     "output_type": "execute_result"
    }
   ],
   "source": [
    "numbers_as_strings = ['1', '2', '5', '10', '20', '50', '100']\n",
    "sorted(numbers_as_strings)"
   ]
  },
  {
   "cell_type": "code",
   "execution_count": 12,
   "metadata": {},
   "outputs": [
    {
     "data": {
      "text/plain": [
       "[1, 2, 5, 10, 20, 50, 100]"
      ]
     },
     "execution_count": 12,
     "metadata": {},
     "output_type": "execute_result"
    }
   ],
   "source": [
    "numbers = [1, 2, 5, 10, 20, 50, 100]\n",
    "sorted(numbers)"
   ]
  },
  {
   "cell_type": "code",
   "execution_count": null,
   "metadata": {},
   "outputs": [],
   "source": []
  }
 ],
 "metadata": {
  "kernelspec": {
   "display_name": "Python 3",
   "language": "python",
   "name": "python3"
  },
  "language_info": {
   "codemirror_mode": {
    "name": "ipython",
    "version": 3
   },
   "file_extension": ".py",
   "mimetype": "text/x-python",
   "name": "python",
   "nbconvert_exporter": "python",
   "pygments_lexer": "ipython3",
   "version": "3.7.3"
  }
 },
 "nbformat": 4,
 "nbformat_minor": 2
}
