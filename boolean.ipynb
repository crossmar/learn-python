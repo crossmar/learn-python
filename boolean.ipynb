{
 "cells": [
  {
   "cell_type": "markdown",
   "metadata": {},
   "source": [
    "# Boolean algebra:\n",
    "\n",
    "## not\n",
    "### not a\n",
    "| a     | result |\n",
    "|-------|--------|\n",
    "| False | True   |\n",
    "| True  | False  |"
   ]
  },
  {
   "cell_type": "markdown",
   "metadata": {},
   "source": [
    "## or\n",
    "### a or b\n",
    "| a     | b     | result |\n",
    "|-------|-------|--------|\n",
    "| False | False | False  |\n",
    "| True  | False | True   |\n",
    "| False | True  | True   |\n",
    "| True  | True  | True   |"
   ]
  },
  {
   "cell_type": "markdown",
   "metadata": {},
   "source": [
    "## and\n",
    "### a and b\n",
    "| a     | b     | result |\n",
    "|-------|-------|--------|\n",
    "| False | False | False  |\n",
    "| True  | False | False  |\n",
    "| False | True  | False  |\n",
    "| True  | True  | True   |\n",
    "\n",
    "- - -"
   ]
  },
  {
   "cell_type": "markdown",
   "metadata": {},
   "source": [
    "# Boolean expressions \n",
    "* <     less than\n",
    "* >     greater than\n",
    "* ==    equal to\n",
    "* <=    less than or equal to\n",
    "* >=    greater than or equal to\n",
    "* <>    not equal to\n",
    "* not\n",
    "* or\n",
    "* and"
   ]
  },
  {
   "cell_type": "code",
   "execution_count": 56,
   "metadata": {},
   "outputs": [
    {
     "name": "stdout",
     "output_type": "stream",
     "text": [
      "True\n"
     ]
    }
   ],
   "source": [
    "print(1 < 2)"
   ]
  },
  {
   "cell_type": "code",
   "execution_count": 57,
   "metadata": {},
   "outputs": [
    {
     "name": "stdout",
     "output_type": "stream",
     "text": [
      "False\n"
     ]
    }
   ],
   "source": [
    "print(1 > 2)"
   ]
  },
  {
   "cell_type": "code",
   "execution_count": 58,
   "metadata": {},
   "outputs": [
    {
     "name": "stdout",
     "output_type": "stream",
     "text": [
      "True\n"
     ]
    }
   ],
   "source": [
    "print(1 < 5 < 10)"
   ]
  }
 ],
 "metadata": {
  "kernelspec": {
   "display_name": "Python 3",
   "language": "python",
   "name": "python3"
  },
  "language_info": {
   "codemirror_mode": {
    "name": "ipython",
    "version": 3
   },
   "file_extension": ".py",
   "mimetype": "text/x-python",
   "name": "python",
   "nbconvert_exporter": "python",
   "pygments_lexer": "ipython3",
   "version": "3.7.3"
  }
 },
 "nbformat": 4,
 "nbformat_minor": 2
}
